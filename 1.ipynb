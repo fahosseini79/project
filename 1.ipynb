{
 "cells": [
  {
   "cell_type": "code",
   "execution_count": 2,
   "metadata": {},
   "outputs": [],
   "source": [
    "import glob\n",
    "import zipfile\n",
    "import os\n",
    "import pandas as pd\n",
    "import pyarrow.parquet as pq\n",
    "import matplotlib.pyplot as plt"
   ]
  },
  {
   "cell_type": "code",
   "execution_count": null,
   "metadata": {},
   "outputs": [],
   "source": [
    "with zipfile.ZipFile(\"202405.zip\", \"r\") as zfile:\n",
    "    zfile.extractall()\n",
    "os.remove(\"202405.zip\")"
   ]
  },
  {
   "cell_type": "code",
   "execution_count": null,
   "metadata": {},
   "outputs": [],
   "source": [
    "files = glob.glob(\"F:/python basic/dataAnalysis/project/202405/2024*.zip\")\n",
    "\n",
    "for file in files:\n",
    "    extraction_path = f\"F:/python basic/dataAnalysis/project/202405/{os.path.splitext(os.path.basename(file))[0]}/\"\n",
    "    with zipfile.ZipFile(file, \"r\") as zfile2:\n",
    "        zfile2.extractall(extraction_path)\n",
    "    os.remove(file)"
   ]
  },
  {
   "cell_type": "code",
   "execution_count": 4,
   "metadata": {},
   "outputs": [
    {
     "data": {
      "text/plain": [
       "2352"
      ]
     },
     "execution_count": 4,
     "metadata": {},
     "output_type": "execute_result"
    }
   ],
   "source": [
    "#Q1\n",
    "match_away_team_info = pd.read_csv('df/df_away_team_1.csv').drop_duplicates(subset='match_id', keep='first')\n",
    "match_home_team_info = pd.read_csv('df/df_home_team_1.csv').drop_duplicates(subset='match_id', keep='first')\n",
    "total_team_info = pd.merge(match_away_team_info, match_home_team_info, how='outer')\n",
    "total_team_info['player_id'].nunique()"
   ]
  },
  {
   "cell_type": "code",
   "execution_count": 28,
   "metadata": {},
   "outputs": [
    {
     "data": {
      "text/plain": [
       "np.float64(1.8194051990013218)"
      ]
     },
     "execution_count": 28,
     "metadata": {},
     "output_type": "execute_result"
    }
   ],
   "source": [
    "#Q2\n",
    "total_team_info['height'].mean()"
   ]
  },
  {
   "cell_type": "code",
   "execution_count": 45,
   "metadata": {},
   "outputs": [
    {
     "data": {
      "text/plain": [
       "np.int64(12346747)"
      ]
     },
     "execution_count": 45,
     "metadata": {},
     "output_type": "execute_result"
    }
   ],
   "source": [
    "#Q4\n",
    "match_time_info = pd.read_csv('df/df_time.csv').drop_duplicates(subset='match_id', keep='first')\n",
    "match_time_info['Total'] = match_time_info.iloc[:, 1:5].sum(axis=1)\n",
    "match_time_info.loc[match_time_info['Total'].idxmax(), 'match_id']"
   ]
  },
  {
   "cell_type": "code",
   "execution_count": 17,
   "metadata": {},
   "outputs": [
    {
     "data": {
      "text/plain": [
       "set_id\n",
       "2    43965\n",
       "3    15940\n",
       "1     7054\n",
       "4      289\n",
       "5      202\n",
       "Name: count, dtype: int64"
      ]
     },
     "execution_count": 17,
     "metadata": {},
     "output_type": "execute_result"
    }
   ],
   "source": [
    "#Q5\n",
    "organized_game_info = pd.read_csv('df/df_pbp.csv').groupby(['match_id', 'game_id'])['set_id'].max().reset_index()\n",
    "organized_game_info['set_id'].value_counts()"
   ]
  },
  {
   "cell_type": "code",
   "execution_count": 11,
   "metadata": {},
   "outputs": [
    {
     "data": {
      "text/html": [
       "<div>\n",
       "<style scoped>\n",
       "    .dataframe tbody tr th:only-of-type {\n",
       "        vertical-align: middle;\n",
       "    }\n",
       "\n",
       "    .dataframe tbody tr th {\n",
       "        vertical-align: top;\n",
       "    }\n",
       "\n",
       "    .dataframe thead th {\n",
       "        text-align: right;\n",
       "    }\n",
       "</style>\n",
       "<table border=\"1\" class=\"dataframe\">\n",
       "  <thead>\n",
       "    <tr style=\"text-align: right;\">\n",
       "      <th></th>\n",
       "      <th>country</th>\n",
       "      <th>total_prize</th>\n",
       "    </tr>\n",
       "  </thead>\n",
       "  <tbody>\n",
       "    <tr>\n",
       "      <th>76</th>\n",
       "      <td>Serbia</td>\n",
       "      <td>3.962385e+06</td>\n",
       "    </tr>\n",
       "    <tr>\n",
       "      <th>7</th>\n",
       "      <td>Belarus</td>\n",
       "      <td>3.408318e+06</td>\n",
       "    </tr>\n",
       "    <tr>\n",
       "      <th>87</th>\n",
       "      <td>Tunisia</td>\n",
       "      <td>2.791494e+06</td>\n",
       "    </tr>\n",
       "    <tr>\n",
       "      <th>81</th>\n",
       "      <td>Spain</td>\n",
       "      <td>2.358158e+06</td>\n",
       "    </tr>\n",
       "    <tr>\n",
       "      <th>32</th>\n",
       "      <td>Greece</td>\n",
       "      <td>2.199077e+06</td>\n",
       "    </tr>\n",
       "    <tr>\n",
       "      <th>...</th>\n",
       "      <td>...</td>\n",
       "      <td>...</td>\n",
       "    </tr>\n",
       "    <tr>\n",
       "      <th>63</th>\n",
       "      <td>Nigeria</td>\n",
       "      <td>5.020500e+03</td>\n",
       "    </tr>\n",
       "    <tr>\n",
       "      <th>48</th>\n",
       "      <td>Kyrgyzstan</td>\n",
       "      <td>4.413000e+03</td>\n",
       "    </tr>\n",
       "    <tr>\n",
       "      <th>61</th>\n",
       "      <td>New Caledonia</td>\n",
       "      <td>3.149000e+03</td>\n",
       "    </tr>\n",
       "    <tr>\n",
       "      <th>37</th>\n",
       "      <td>Iran</td>\n",
       "      <td>2.980000e+03</td>\n",
       "    </tr>\n",
       "    <tr>\n",
       "      <th>6</th>\n",
       "      <td>Azerbaijan</td>\n",
       "      <td>2.937000e+03</td>\n",
       "    </tr>\n",
       "  </tbody>\n",
       "</table>\n",
       "<p>97 rows × 2 columns</p>\n",
       "</div>"
      ],
      "text/plain": [
       "          country   total_prize\n",
       "76         Serbia  3.962385e+06\n",
       "7         Belarus  3.408318e+06\n",
       "87        Tunisia  2.791494e+06\n",
       "81          Spain  2.358158e+06\n",
       "32         Greece  2.199077e+06\n",
       "..            ...           ...\n",
       "63        Nigeria  5.020500e+03\n",
       "48     Kyrgyzstan  4.413000e+03\n",
       "61  New Caledonia  3.149000e+03\n",
       "37           Iran  2.980000e+03\n",
       "6      Azerbaijan  2.937000e+03\n",
       "\n",
       "[97 rows x 2 columns]"
      ]
     },
     "execution_count": 11,
     "metadata": {},
     "output_type": "execute_result"
    }
   ],
   "source": [
    "#Q6\n",
    "organized_team_info = total_team_info.drop_duplicates(subset='player_id', keep='first').groupby('country')['total_prize'].mean().reset_index()\n",
    "organized_team_info.sort_values(ascending=False,by = 'total_prize')"
   ]
  },
  {
   "cell_type": "code",
   "execution_count": 13,
   "metadata": {},
   "outputs": [
    {
     "data": {
      "text/plain": [
       "np.float64(6.49257025158158)"
      ]
     },
     "execution_count": 13,
     "metadata": {},
     "output_type": "execute_result"
    }
   ],
   "source": [
    "#Q7\n",
    "period_info = pd.read_csv('df/df_statistics.csv')\n",
    "period_info.groupby('match_id')['statistic_name'].apply(lambda x: (x == 'aces').sum()).mean()"
   ]
  },
  {
   "cell_type": "code",
   "execution_count": 14,
   "metadata": {},
   "outputs": [
    {
     "data": {
      "text/plain": [
       "gender\n",
       "F    6.416489\n",
       "M    6.624333\n",
       "Name: double_faults, dtype: float64"
      ]
     },
     "execution_count": 14,
     "metadata": {},
     "output_type": "execute_result"
    }
   ],
   "source": [
    "#Q8\n",
    "organized_period_info = period_info.groupby('match_id')['statistic_name'].apply(lambda x: (x == 'double_faults').sum()).reset_index(name='double_faults')\n",
    "pd.merge(match_away_team_info, organized_period_info, how='outer').groupby('gender')['double_faults'].mean()"
   ]
  },
  {
   "cell_type": "code",
   "execution_count": 60,
   "metadata": {},
   "outputs": [
    {
     "data": {
      "text/plain": [
       "np.float64(0.026991266496057816)"
      ]
     },
     "execution_count": 60,
     "metadata": {},
     "output_type": "execute_result"
    }
   ],
   "source": [
    "#Q10\n",
    "total_team_info = pd.merge(match_away_team_info, match_home_team_info, how='outer')\n",
    "total_team_info['height'].corr(total_team_info['total_prize'])"
   ]
  },
  {
   "cell_type": "code",
   "execution_count": 61,
   "metadata": {},
   "outputs": [
    {
     "data": {
      "image/png": "[encoded data removed]",
      "text/plain": [
       "<Figure size 640x480 with 1 Axes>"
      ]
     },
     "metadata": {},
     "output_type": "display_data"
    }
   ],
   "source": [
    "plt.scatter(total_team_info['height'], total_team_info['total_prize'])\n",
    "plt.xlabel('Height')\n",
    "plt.ylabel('total_prize')\n",
    "plt.show()"
   ]
  },
  {
   "cell_type": "code",
   "execution_count": 127,
   "metadata": {},
   "outputs": [
    {
     "data": {
      "text/plain": [
       "np.float64(7331.208374223094)"
      ]
     },
     "execution_count": 127,
     "metadata": {},
     "output_type": "execute_result"
    }
   ],
   "source": [
    "#Q11\n",
    "match_time_info[match_time_info['Total'] != 0]['Total'].mean()"
   ]
  },
  {
   "cell_type": "code",
   "execution_count": 136,
   "metadata": {},
   "outputs": [
    {
     "data": {
      "text/plain": [
       "gender\n",
       "F    5.037571\n",
       "M    5.211970\n",
       "Name: mean_game_id, dtype: float64"
      ]
     },
     "execution_count": 136,
     "metadata": {},
     "output_type": "execute_result"
    }
   ],
   "source": [
    "#Q12\n",
    "organized_game_info_2 = game_info.groupby(['match_id', 'set_id'])['game_id'].mean().reset_index(name='mean_game_id')\n",
    "pd.merge(match_away_team_info, organized_game_info_2, how='outer').groupby('gender')['mean_game_id'].mean()"
   ]
  },
  {
   "cell_type": "code",
   "execution_count": 15,
   "metadata": {},
   "outputs": [
    {
     "data": {
      "text/html": [
       "<div>\n",
       "<style scoped>\n",
       "    .dataframe tbody tr th:only-of-type {\n",
       "        vertical-align: middle;\n",
       "    }\n",
       "\n",
       "    .dataframe tbody tr th {\n",
       "        vertical-align: top;\n",
       "    }\n",
       "\n",
       "    .dataframe thead th {\n",
       "        text-align: right;\n",
       "    }\n",
       "</style>\n",
       "<table border=\"1\" class=\"dataframe\">\n",
       "  <thead>\n",
       "    <tr style=\"text-align: right;\">\n",
       "      <th></th>\n",
       "      <th>ground_type</th>\n",
       "      <th>tournament_id</th>\n",
       "    </tr>\n",
       "  </thead>\n",
       "  <tbody>\n",
       "    <tr>\n",
       "      <th>0</th>\n",
       "      <td>Hardcourt indoor</td>\n",
       "      <td>4</td>\n",
       "    </tr>\n",
       "    <tr>\n",
       "      <th>1</th>\n",
       "      <td>Hardcourt outdoor</td>\n",
       "      <td>75</td>\n",
       "    </tr>\n",
       "    <tr>\n",
       "      <th>2</th>\n",
       "      <td>Red clay</td>\n",
       "      <td>213</td>\n",
       "    </tr>\n",
       "    <tr>\n",
       "      <th>3</th>\n",
       "      <td>Synthetic outdoor</td>\n",
       "      <td>2</td>\n",
       "    </tr>\n",
       "  </tbody>\n",
       "</table>\n",
       "</div>"
      ],
      "text/plain": [
       "         ground_type  tournament_id\n",
       "0   Hardcourt indoor              4\n",
       "1  Hardcourt outdoor             75\n",
       "2           Red clay            213\n",
       "3  Synthetic outdoor              2"
      ]
     },
     "execution_count": 15,
     "metadata": {},
     "output_type": "execute_result"
    }
   ],
   "source": [
    "#Q14\n",
    "pd.read_csv('df/df_tournament.csv').drop_duplicates(subset='tournament_id', keep='first').groupby('ground_type')['tournament_id'].count().reset_index()"
   ]
  },
  {
   "cell_type": "code",
   "execution_count": 5,
   "metadata": {},
   "outputs": [],
   "source": [
    "#Q15\n",
    "match_venue_info = pd.read_csv('df/df_venue.csv').drop_duplicates(subset='match_id', keep='first')\n",
    "a = pd.merge(match_away_team_info, match_home_team_info, how='outer', on='country')\n",
    "pd.merge(a, match_venue_info, how='outer', on='country')\n"
   ]
  },
  {
   "cell_type": "code",
   "execution_count": 23,
   "metadata": {},
   "outputs": [
    {
     "name": "stdout",
     "output_type": "stream",
     "text": [
      "['Isle of Man', 'Taiwan, Province of China', 'Japan', 'Bosnia & Herzegovina', 'SC', 'Russian Federation', 'Israel', 'The Netherlands', 'Mexico', 'South Africa', 'Chile', 'Buenos Aires', 'Taiwan', 'Portugal', 'Florida', 'South Korea', 'Poland', 'Estonia', 'Colombia', 'Fl. USA', 'Scotland', 'Kazakhstan', 'New Zealand', 'OH', 'USA', 'Dominican Republic', 'Russia', 'CA', 'Netherlands', 'Bolivia', 'Croatia', 'Georgia', 'Finland', 'Korea', 'India', 'Chinese Taipei', 'Monaco', 'CZE', 'Peru', 'France', 'Romania', 'Austria', 'United States', 'Oklahoma', 'Hungary', 'Bulgaria', 'Moldova', 'Fl', 'Italy', 'Norway', 'Czechia', 'Qatar', 'Gernany', 'Slovakia', 'Tunisia', 'Spain', 'Andorra', 'BRAZIL', 'Germany', 'Australia', 'Brazil', 'Belgium', 'New Caledonia', 'England', 'Sweden', 'Ukraine', 'Cascais', 'Switzerland', 'Argentina', 'FL', 'Minsk', 'Uzbekistan', 'China', 'Cyprus', 'Serbia', 'UAE', 'Turkey', 'Canada', 'Egypt', 'Denmark', 'Latvia', 'Belarus', 'Bosnia-Herzegovina', 'Malta', 'Lithuania', 'Bratislava', 'Great Britain', '264', 'North Carolina', 'Czech Republic', 'Bahamas']\n"
     ]
    }
   ],
   "source": [
    "b = a['residence_x'].unique()\n",
    "import pycountry\n",
    "\n",
    "# Sample array\n",
    "\n",
    "# Obtain the unique countries\n",
    "unique_countries = []\n",
    "for place in b:\n",
    "    if isinstance(place, str):\n",
    "        if ',' in place:\n",
    "            country = place.split(',')[-1].strip()\n",
    "            unique_countries.append(country)\n",
    "        else:\n",
    "            # Use pycountry to handle country names\n",
    "            try:\n",
    "                country = pycountry.countries.lookup(place)\n",
    "                unique_countries.append(country.name)\n",
    "            except LookupError:\n",
    "                pass\n",
    "\n",
    "# Remove duplicate countries\n",
    "unique_countries = list(set(unique_countries))\n",
    "\n",
    "# Print the list of unique countries\n",
    "print(unique_countries)"
   ]
  },
  {
   "cell_type": "code",
   "execution_count": 24,
   "metadata": {},
   "outputs": [
    {
     "name": "stdout",
     "output_type": "stream",
     "text": [
      "['Argentina', 'Andorra', 'Argentina', 'Buenos Aires', 'Buenos Aires', 'Argentina', 'Argentina', 'Argentina', 'Australia', 'Australia', 'Australia', 'Australia', 'Russia', 'Australia', 'Australia', 'Australia', 'Australia', 'Spain', 'Monaco', 'Australia', 'Australia', 'Austria', 'Austria', 'Austria', 'Austria', 'Austria', 'Austria', 'Austria', 'Belarus', 'Minsk', 'Belgium', 'Belgium', 'Belgium', 'Belgium', 'Bolivia', 'Bosnia & Herzegovina', 'Bosnia-Herzegovina', 'Brazil', 'Brazil', 'Brazil', 'Brazil', '264', 'USA', 'Spain', 'Brazil', 'SP', 'Bulgaria', 'Bulgaria', 'Bulgaria', 'Canada', 'Bahamas', 'Canada', 'Canada', 'Canada', 'Bahamas', 'Chile', 'Chile', 'China', 'China', 'China', 'China', 'China', 'Taiwan', 'Chinese Taipei', 'Taiwan, Province of China', 'Colombia', 'USA', 'Colombia', 'Bahamas', 'Croatia', 'Czech Republic', 'Czech Republic', 'Czechia', 'Czechia', 'UAE', 'Czech Republic', 'Czechia', 'CZE', 'CZE', 'Czech Republic', 'USA', 'Czech Republic', 'Czech Republic', 'Dominican Republic', 'FL', 'Florida', 'Egypt', 'Egypt', 'Finland', 'Finland', 'France', 'UAE', 'France', 'France', 'France', 'France', 'France', 'France', 'France', 'France', 'France', 'France', 'France', 'Switzerland', 'France', 'France', 'Switzerland', 'Luxembourg', 'France', 'France', 'France', 'Switzerland', 'France', 'Malta', 'France', 'France', 'France', 'New Caledonia', 'France', 'Georgia', 'Georgia', 'Germany', 'USA', 'Germany', 'Germany', 'Germany', 'Spain', 'Germany', 'Gernany', 'Germany', 'Germany', 'Poland', 'Germany', 'Germany', 'Germany', 'Germany', 'Germany', 'Cyprus', 'Hungary', 'Hungary', 'Hungary', 'Spain', 'Hungary', 'India', 'Spain', 'India', 'India', 'India', 'India', 'USA', 'Israel', 'Italy', 'Italy', 'Italy', 'Italy', 'Italy', 'Italy', 'Italy', 'Italy', 'Italy', 'Italy', 'Italy', 'Italy', 'Italy', 'Italy', 'Italy', 'Switzerland', 'Italy', 'Italy', 'USA', 'Japan', 'Japan', 'Japan', 'Japan', 'FL', 'Japan', 'Japan', 'Japan', 'Japan', 'USA', 'Kazakhstan', 'Russia', 'Kazakhstan', 'Kazakhstan', 'Latvia', 'Lithuania', 'Mexico', 'USA', 'Moldova', 'The Netherlands', 'Netherlands', 'The Netherlands', 'Netherlands', 'Netherlands', 'Netherlands', 'Netherlands', 'New Zealand', 'New Zealand', 'Peru', 'Peru', 'Poland', 'Poland', 'Poland', 'Poland', 'Canada', 'Portugal', 'Portugal', 'Portugal', 'Romania', 'Romania', 'Romania', 'Romania', 'Romania', 'Spain', 'Germany', 'Russian Federation', 'Russia', 'Russia', 'Russia', 'Czech Republic', 'Russia', 'Russia', 'Russia', 'Serbia', 'Serbia', 'Serbia', 'Slovakia', 'Slovakia', 'Slovenia', 'Qatar', 'South Africa', 'Korea', 'South Korea', 'Spain', 'Switzerland', 'Spain', 'Spain', 'Spain', 'Spain', 'Spain', 'Spain', 'Andorra', 'Spain', 'Spain', 'Sweden', 'Sweden', 'Switzerland', 'Switzerland', 'Switzerland', 'Switzerland', 'United States', 'Switzerland', 'Tunisia', 'Tunisia', 'Turkey', 'Turkey', 'USA', 'USA', 'United States', 'USA', 'OH', 'Fl. USA', 'USA', 'USA', 'USA', 'USA', 'USA', 'USA', 'USA', 'USA', 'USA', 'USA', 'Fl', 'USA', 'USA', 'Oklahoma', 'USA', 'North Carolina', 'United States', 'USA', 'USA', 'USA', 'United States', 'USA', 'IA', 'USA', 'USA', 'Ukraine', 'Ukraine', 'Ukraine', 'Ukraine', 'Ukraine', 'Ukraine', 'Ukraine', 'Isle of Man', 'SC', 'England', 'England', 'USA', 'Great Britain', 'Scotland', 'Great Britain', 'Uzbekistan', 'Uzbekistan', 'Uzbekistan', 'Portugal', 'USA']\n"
     ]
    }
   ],
   "source": [
    "c = a['residence_y'].unique()\n",
    "import pycountry\n",
    "\n",
    "# Obtain the unique countries\n",
    "unique_countries = []\n",
    "for place in c:\n",
    "    if isinstance(place, str):\n",
    "        if ',' in place:\n",
    "            country = place.split(',')[-1].strip()\n",
    "            unique_countries.append(country)\n",
    "        else:\n",
    "            # Use pycountry to handle country names\n",
    "            try:\n",
    "                country = pycountry.countries.lookup(place)\n",
    "                unique_countries.append(country.name)\n",
    "            except LookupError:\n",
    "                pass\n",
    "\n",
    "# Remove duplicate countries\n",
    "unique_countries_2 = list(set(unique_countries))\n",
    "\n",
    "# Print the list of unique countries\n",
    "print(unique_countries) "
   ]
  },
  {
   "cell_type": "code",
   "execution_count": 30,
   "metadata": {},
   "outputs": [
    {
     "name": "stdout",
     "output_type": "stream",
     "text": [
      "['Isle of Man', 'Taiwan, Province of China', 'Japan', 'Slovenia', 'Bosnia & Herzegovina', 'SC', 'Luxembourg', 'Russian Federation', 'Israel', 'The Netherlands', 'Mexico', 'South Africa', 'SP', 'Chile', 'Buenos Aires', 'Taiwan', 'Portugal', 'Florida', 'South Korea', 'Poland', 'Colombia', 'Fl. USA', 'Scotland', 'Kazakhstan', 'New Zealand', 'OH', 'USA', 'Dominican Republic', 'Russia', 'Netherlands', 'Bolivia', 'Croatia', 'Georgia', 'IA', 'Finland', 'Korea', 'India', 'Chinese Taipei', 'Monaco', 'CZE', 'Peru', 'France', 'Romania', 'Austria', 'United States', 'Oklahoma', 'Hungary', 'Bulgaria', 'Moldova', 'Fl', 'Italy', 'Czechia', 'Qatar', 'Gernany', 'Slovakia', 'Tunisia', 'Spain', 'Andorra', 'Germany', 'Australia', 'Brazil', 'Belgium', 'New Caledonia', 'England', 'Sweden', 'Ukraine', 'Switzerland', 'Argentina', 'FL', 'Minsk', 'Uzbekistan', 'China', 'Cyprus', 'Serbia', 'UAE', 'Turkey', 'Canada', 'Egypt', 'Latvia', 'Belarus', 'Bosnia-Herzegovina', 'Malta', 'Lithuania', 'Great Britain', '264', 'North Carolina', 'Czech Republic', 'Bahamas']\n"
     ]
    }
   ],
   "source": [
    "import numpy as np\n",
    "np.set_printoptions(threshold=np.inf)\n",
    "print(list(set(unique_countries + unique_countries_2)))\n"
   ]
  },
  {
   "cell_type": "code",
   "execution_count": 57,
   "metadata": {},
   "outputs": [
    {
     "data": {
      "text/plain": [
       "np.float64(6.49257025158158)"
      ]
     },
     "execution_count": 57,
     "metadata": {},
     "output_type": "execute_result"
    }
   ],
   "source": [
    "#Q17\n",
    "period_info = pd.read_csv('df/df_statistics.csv')\n",
    "organized_period_info = period_info[period_info['statistic_name'] == 'break_points_converted'].groupby('match_id').size().reset_index(name='total')\n",
    "organized_period_info['total'].mean()"
   ]
  }
 ],
 "metadata": {
  "kernelspec": {
   "display_name": "Python 3",
   "language": "python",
   "name": "python3"
  },
  "language_info": {
   "codemirror_mode": {
    "name": "ipython",
    "version": 3
   },
   "file_extension": ".py",
   "mimetype": "text/x-python",
   "name": "python",
   "nbconvert_exporter": "python",
   "pygments_lexer": "ipython3",
   "version": "3.12.2"
  }
 },
 "nbformat": 4,
 "nbformat_minor": 2
}
