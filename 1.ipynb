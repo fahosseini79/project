{
 "cells": [
  {
   "cell_type": "code",
   "execution_count": 53,
   "metadata": {},
   "outputs": [],
   "source": [
    "import glob\n",
    "import zipfile\n",
    "import os\n",
    "import pycountry\n",
    "import pandas as pd\n",
    "import pyarrow.parquet as pq\n",
    "import matplotlib.pyplot as plt\n",
    "import numpy as np"
   ]
  },
  {
   "cell_type": "code",
   "execution_count": null,
   "metadata": {},
   "outputs": [],
   "source": [
    "with zipfile.ZipFile(\"202405.zip\", \"r\") as zfile:\n",
    "    zfile.extractall()\n",
    "os.remove(\"202405.zip\")"
   ]
  },
  {
   "cell_type": "code",
   "execution_count": null,
   "metadata": {},
   "outputs": [],
   "source": [
    "files = glob.glob(\"F:/python basic/dataAnalysis/project/202405/2024*.zip\")\n",
    "\n",
    "for file in files:\n",
    "    extraction_path = f\"F:/python basic/dataAnalysis/project/202405/{os.path.splitext(os.path.basename(file))[0]}/\"\n",
    "    with zipfile.ZipFile(file, \"r\") as zfile2:\n",
    "        zfile2.extractall(extraction_path)\n",
    "    os.remove(file)"
   ]
  },
  {
   "cell_type": "code",
   "execution_count": 5,
   "metadata": {},
   "outputs": [
    {
     "data": {
      "text/plain": [
       "2352"
      ]
     },
     "execution_count": 5,
     "metadata": {},
     "output_type": "execute_result"
    }
   ],
   "source": [
    "#Q1\n",
    "match_away_team_info = pd.read_csv('df/df_away_team_1.csv').drop_duplicates(subset='match_id', keep='first')\n",
    "match_home_team_info = pd.read_csv('df/df_home_team_1.csv').drop_duplicates(subset='match_id', keep='first')\n",
    "total_team_info = pd.merge(match_away_team_info, match_home_team_info, how='outer')\n",
    "total_team_info['player_id'].nunique()"
   ]
  },
  {
   "cell_type": "code",
   "execution_count": 28,
   "metadata": {},
   "outputs": [
    {
     "data": {
      "text/plain": [
       "np.float64(1.8194051990013218)"
      ]
     },
     "execution_count": 28,
     "metadata": {},
     "output_type": "execute_result"
    }
   ],
   "source": [
    "#Q2\n",
    "total_team_info['height'].mean()"
   ]
  },
  {
   "cell_type": "code",
   "execution_count": 45,
   "metadata": {},
   "outputs": [
    {
     "data": {
      "text/plain": [
       "np.int64(12346747)"
      ]
     },
     "execution_count": 45,
     "metadata": {},
     "output_type": "execute_result"
    }
   ],
   "source": [
    "#Q4\n",
    "match_time_info = pd.read_csv('df/df_time.csv').drop_duplicates(subset='match_id', keep='first')\n",
    "match_time_info['Total'] = match_time_info.iloc[:, 1:5].sum(axis=1)\n",
    "match_time_info.loc[match_time_info['Total'].idxmax(), 'match_id']"
   ]
  },
  {
   "cell_type": "code",
   "execution_count": 17,
   "metadata": {},
   "outputs": [
    {
     "data": {
      "text/plain": [
       "set_id\n",
       "2    43965\n",
       "3    15940\n",
       "1     7054\n",
       "4      289\n",
       "5      202\n",
       "Name: count, dtype: int64"
      ]
     },
     "execution_count": 17,
     "metadata": {},
     "output_type": "execute_result"
    }
   ],
   "source": [
    "#Q5\n",
    "organized_game_info = pd.read_csv('df/df_pbp.csv').groupby(['match_id', 'game_id'])['set_id'].max().reset_index()\n",
    "organized_game_info['set_id'].value_counts()"
   ]
  },
  {
   "cell_type": "code",
   "execution_count": 11,
   "metadata": {},
   "outputs": [
    {
     "data": {
      "text/html": [
       "<div>\n",
       "<style scoped>\n",
       "    .dataframe tbody tr th:only-of-type {\n",
       "        vertical-align: middle;\n",
       "    }\n",
       "\n",
       "    .dataframe tbody tr th {\n",
       "        vertical-align: top;\n",
       "    }\n",
       "\n",
       "    .dataframe thead th {\n",
       "        text-align: right;\n",
       "    }\n",
       "</style>\n",
       "<table border=\"1\" class=\"dataframe\">\n",
       "  <thead>\n",
       "    <tr style=\"text-align: right;\">\n",
       "      <th></th>\n",
       "      <th>country</th>\n",
       "      <th>total_prize</th>\n",
       "    </tr>\n",
       "  </thead>\n",
       "  <tbody>\n",
       "    <tr>\n",
       "      <th>76</th>\n",
       "      <td>Serbia</td>\n",
       "      <td>3.962385e+06</td>\n",
       "    </tr>\n",
       "    <tr>\n",
       "      <th>7</th>\n",
       "      <td>Belarus</td>\n",
       "      <td>3.408318e+06</td>\n",
       "    </tr>\n",
       "    <tr>\n",
       "      <th>87</th>\n",
       "      <td>Tunisia</td>\n",
       "      <td>2.791494e+06</td>\n",
       "    </tr>\n",
       "    <tr>\n",
       "      <th>81</th>\n",
       "      <td>Spain</td>\n",
       "      <td>2.358158e+06</td>\n",
       "    </tr>\n",
       "    <tr>\n",
       "      <th>32</th>\n",
       "      <td>Greece</td>\n",
       "      <td>2.199077e+06</td>\n",
       "    </tr>\n",
       "    <tr>\n",
       "      <th>...</th>\n",
       "      <td>...</td>\n",
       "      <td>...</td>\n",
       "    </tr>\n",
       "    <tr>\n",
       "      <th>63</th>\n",
       "      <td>Nigeria</td>\n",
       "      <td>5.020500e+03</td>\n",
       "    </tr>\n",
       "    <tr>\n",
       "      <th>48</th>\n",
       "      <td>Kyrgyzstan</td>\n",
       "      <td>4.413000e+03</td>\n",
       "    </tr>\n",
       "    <tr>\n",
       "      <th>61</th>\n",
       "      <td>New Caledonia</td>\n",
       "      <td>3.149000e+03</td>\n",
       "    </tr>\n",
       "    <tr>\n",
       "      <th>37</th>\n",
       "      <td>Iran</td>\n",
       "      <td>2.980000e+03</td>\n",
       "    </tr>\n",
       "    <tr>\n",
       "      <th>6</th>\n",
       "      <td>Azerbaijan</td>\n",
       "      <td>2.937000e+03</td>\n",
       "    </tr>\n",
       "  </tbody>\n",
       "</table>\n",
       "<p>97 rows × 2 columns</p>\n",
       "</div>"
      ],
      "text/plain": [
       "          country   total_prize\n",
       "76         Serbia  3.962385e+06\n",
       "7         Belarus  3.408318e+06\n",
       "87        Tunisia  2.791494e+06\n",
       "81          Spain  2.358158e+06\n",
       "32         Greece  2.199077e+06\n",
       "..            ...           ...\n",
       "63        Nigeria  5.020500e+03\n",
       "48     Kyrgyzstan  4.413000e+03\n",
       "61  New Caledonia  3.149000e+03\n",
       "37           Iran  2.980000e+03\n",
       "6      Azerbaijan  2.937000e+03\n",
       "\n",
       "[97 rows x 2 columns]"
      ]
     },
     "execution_count": 11,
     "metadata": {},
     "output_type": "execute_result"
    }
   ],
   "source": [
    "#Q6\n",
    "organized_team_info = total_team_info.drop_duplicates(subset='player_id', keep='first').groupby('country')['total_prize'].mean().reset_index()\n",
    "organized_team_info.sort_values(ascending=False,by = 'total_prize')"
   ]
  },
  {
   "cell_type": "code",
   "execution_count": 13,
   "metadata": {},
   "outputs": [
    {
     "data": {
      "text/plain": [
       "np.float64(6.49257025158158)"
      ]
     },
     "execution_count": 13,
     "metadata": {},
     "output_type": "execute_result"
    }
   ],
   "source": [
    "#Q7\n",
    "period_info = pd.read_csv('df/df_statistics.csv')\n",
    "period_info.groupby('match_id')['statistic_name'].apply(lambda x: (x == 'aces').sum()).mean()"
   ]
  },
  {
   "cell_type": "code",
   "execution_count": 14,
   "metadata": {},
   "outputs": [
    {
     "data": {
      "text/plain": [
       "gender\n",
       "F    6.416489\n",
       "M    6.624333\n",
       "Name: double_faults, dtype: float64"
      ]
     },
     "execution_count": 14,
     "metadata": {},
     "output_type": "execute_result"
    }
   ],
   "source": [
    "#Q8\n",
    "organized_period_info = period_info.groupby('match_id')['statistic_name'].apply(lambda x: (x == 'double_faults').sum()).reset_index(name='double_faults')\n",
    "pd.merge(match_away_team_info, organized_period_info, how='outer').groupby('gender')['double_faults'].mean()"
   ]
  },
  {
   "cell_type": "code",
   "execution_count": 60,
   "metadata": {},
   "outputs": [
    {
     "data": {
      "text/plain": [
       "np.float64(0.026991266496057816)"
      ]
     },
     "execution_count": 60,
     "metadata": {},
     "output_type": "execute_result"
    }
   ],
   "source": [
    "#Q10\n",
    "total_team_info = pd.merge(match_away_team_info, match_home_team_info, how='outer')\n",
    "total_team_info['height'].corr(total_team_info['total_prize'])"
   ]
  },
  {
   "cell_type": "code",
   "execution_count": 61,
   "metadata": {},
   "outputs": [
    {
     "data": {
      "image/png": "[encoded data removed]",
      "text/plain": [
       "<Figure size 640x480 with 1 Axes>"
      ]
     },
     "metadata": {},
     "output_type": "display_data"
    }
   ],
   "source": [
    "plt.scatter(total_team_info['height'], total_team_info['total_prize'])\n",
    "plt.xlabel('Height')\n",
    "plt.ylabel('total_prize')\n",
    "plt.show()"
   ]
  },
  {
   "cell_type": "code",
   "execution_count": 127,
   "metadata": {},
   "outputs": [
    {
     "data": {
      "text/plain": [
       "np.float64(7331.208374223094)"
      ]
     },
     "execution_count": 127,
     "metadata": {},
     "output_type": "execute_result"
    }
   ],
   "source": [
    "#Q11\n",
    "match_time_info[match_time_info['Total'] != 0]['Total'].mean()"
   ]
  },
  {
   "cell_type": "code",
   "execution_count": 136,
   "metadata": {},
   "outputs": [
    {
     "data": {
      "text/plain": [
       "gender\n",
       "F    5.037571\n",
       "M    5.211970\n",
       "Name: mean_game_id, dtype: float64"
      ]
     },
     "execution_count": 136,
     "metadata": {},
     "output_type": "execute_result"
    }
   ],
   "source": [
    "#Q12\n",
    "game_info = pd.read_csv('df/df_pbp.csv')\n",
    "organized_game_info_2 = game_info.groupby(['match_id', 'set_id'])['game_id'].mean().reset_index(name='mean_game_id')\n",
    "pd.merge(match_away_team_info, organized_game_info_2, how='outer').groupby('gender')['mean_game_id'].mean()"
   ]
  },
  {
   "cell_type": "code",
   "execution_count": 14,
   "metadata": {},
   "outputs": [
    {
     "data": {
      "image/png": "[encoded data removed]",
      "text/plain": [
       "<Figure size 1200x600 with 2 Axes>"
      ]
     },
     "metadata": {},
     "output_type": "display_data"
    }
   ],
   "source": [
    "#Q13\n",
    "match_away_team_info = pd.read_csv('df/df_away_team_1.csv').drop_duplicates(subset='match_id', keep='first')\n",
    "match_home_team_info = pd.read_csv('df/df_home_team_1.csv').drop_duplicates(subset='match_id', keep='first')\n",
    "total_team_info = pd.merge(match_away_team_info, match_home_team_info, how='outer')\n",
    "handedness_count = total_team_info['plays'].value_counts(normalize=True)\n",
    "\n",
    "fig, (ax1, ax2) = plt.subplots(1, 2, figsize=(12, 6))\n",
    "\n",
    "# Bar plot\n",
    "ax1.bar(handedness_count.index, handedness_count.values)\n",
    "ax1.set_xlabel('Handedness')\n",
    "ax1.set_ylabel('Percentage')\n",
    "ax1.set_title('Player Handedness Distribution')\n",
    "ax1.tick_params(axis='x', labelrotation=0)\n",
    "\n",
    "# Pie chart\n",
    "ax2.pie(handedness_count.values, labels=handedness_count.index, autopct='%1.1f%%')\n",
    "ax2.set_title('Player Handedness Distribution')\n",
    "\n",
    "plt.tight_layout()\n",
    "plt.show()"
   ]
  },
  {
   "cell_type": "code",
   "execution_count": 15,
   "metadata": {},
   "outputs": [
    {
     "data": {
      "text/html": [
       "<div>\n",
       "<style scoped>\n",
       "    .dataframe tbody tr th:only-of-type {\n",
       "        vertical-align: middle;\n",
       "    }\n",
       "\n",
       "    .dataframe tbody tr th {\n",
       "        vertical-align: top;\n",
       "    }\n",
       "\n",
       "    .dataframe thead th {\n",
       "        text-align: right;\n",
       "    }\n",
       "</style>\n",
       "<table border=\"1\" class=\"dataframe\">\n",
       "  <thead>\n",
       "    <tr style=\"text-align: right;\">\n",
       "      <th></th>\n",
       "      <th>ground_type</th>\n",
       "      <th>tournament_id</th>\n",
       "    </tr>\n",
       "  </thead>\n",
       "  <tbody>\n",
       "    <tr>\n",
       "      <th>0</th>\n",
       "      <td>Hardcourt indoor</td>\n",
       "      <td>4</td>\n",
       "    </tr>\n",
       "    <tr>\n",
       "      <th>1</th>\n",
       "      <td>Hardcourt outdoor</td>\n",
       "      <td>75</td>\n",
       "    </tr>\n",
       "    <tr>\n",
       "      <th>2</th>\n",
       "      <td>Red clay</td>\n",
       "      <td>213</td>\n",
       "    </tr>\n",
       "    <tr>\n",
       "      <th>3</th>\n",
       "      <td>Synthetic outdoor</td>\n",
       "      <td>2</td>\n",
       "    </tr>\n",
       "  </tbody>\n",
       "</table>\n",
       "</div>"
      ],
      "text/plain": [
       "         ground_type  tournament_id\n",
       "0   Hardcourt indoor              4\n",
       "1  Hardcourt outdoor             75\n",
       "2           Red clay            213\n",
       "3  Synthetic outdoor              2"
      ]
     },
     "execution_count": 15,
     "metadata": {},
     "output_type": "execute_result"
    }
   ],
   "source": [
    "#Q14\n",
    "pd.read_csv('df/df_tournament.csv').drop_duplicates(subset='tournament_id', keep='first').groupby('ground_type')['tournament_id'].count().reset_index()"
   ]
  },
  {
   "cell_type": "code",
   "execution_count": 59,
   "metadata": {},
   "outputs": [
    {
     "data": {
      "text/plain": [
       "103"
      ]
     },
     "execution_count": 59,
     "metadata": {},
     "output_type": "execute_result"
    }
   ],
   "source": [
    "#Q15\n",
    "\n",
    "match_venue_info = pd.read_csv('df/df_venue.csv').drop_duplicates(subset='match_id', keep='first')\n",
    "a = match_venue_info['country'].unique()\n",
    "match_total_info = pd.merge(match_away_team_info, match_home_team_info, how='outer')\n",
    "residence_country = match_total_info['residence'].unique()\n",
    "\n",
    "# Create a list of valid countries using pycountry\n",
    "valid_countries = [country.name for country in pycountry.countries]\n",
    "\n",
    "# Obtain the unique countries\n",
    "unique_countries = []\n",
    "for place in residence_country:\n",
    "    if isinstance(place, str):\n",
    "        if ',' in place:\n",
    "            country = place.split(',')[-1].strip()\n",
    "        else:\n",
    "            country = place\n",
    "        \n",
    "        # Validate the extracted country name using the valid_countries list\n",
    "        if country in valid_countries:\n",
    "            unique_countries.append(country)\n",
    "\n",
    "# Remove duplicate countries and convert to NumPy array\n",
    "unique_countries = np.array(list(set(unique_countries)))\n",
    "\n",
    "total_countries = np.concatenate((match_total_info['country'], match_venue_info['country'], unique_countries))\n",
    "len(np.unique(total_countries))\n"
   ]
  },
  {
   "cell_type": "code",
   "execution_count": 57,
   "metadata": {},
   "outputs": [
    {
     "data": {
      "text/plain": [
       "np.float64(6.49257025158158)"
      ]
     },
     "execution_count": 57,
     "metadata": {},
     "output_type": "execute_result"
    }
   ],
   "source": [
    "#Q17\n",
    "period_info = pd.read_csv('df/df_statistics.csv')\n",
    "organized_period_info = period_info[period_info['statistic_name'] == 'break_points_converted'].groupby('match_id').size().reset_index(name='total')\n",
    "organized_period_info['total'].mean()"
   ]
  }
 ],
 "metadata": {
  "kernelspec": {
   "display_name": "Python 3",
   "language": "python",
   "name": "python3"
  },
  "language_info": {
   "codemirror_mode": {
    "name": "ipython",
    "version": 3
   },
   "file_extension": ".py",
   "mimetype": "text/x-python",
   "name": "python",
   "nbconvert_exporter": "python",
   "pygments_lexer": "ipython3",
   "version": "3.12.2"
  }
 },
 "nbformat": 4,
 "nbformat_minor": 2
}
